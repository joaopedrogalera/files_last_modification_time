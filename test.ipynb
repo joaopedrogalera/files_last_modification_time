{
 "cells": [
  {
   "cell_type": "code",
   "execution_count": 37,
   "metadata": {},
   "outputs": [
    {
     "data": {
      "text/plain": [
       "<module 'database' from '/mnt/c/Users/nicol/OneDrive/Estudos/UTFPR/iniciacao/testes/2020-03/regular_ftp_upload_test/database.py'>"
      ]
     },
     "execution_count": 37,
     "metadata": {},
     "output_type": "execute_result"
    }
   ],
   "source": [
    "# gets the date and time in UTC\n",
    "import datetime # .isoformat()\n",
    "import os\n",
    "\n",
    "import last_update \n",
    "import database\n",
    "\n",
    "# only for jupyter lab\n",
    "import importlib\n",
    "importlib.reload(last_update)\n",
    "importlib.reload(database)"
   ]
  },
  {
   "cell_type": "code",
   "execution_count": 39,
   "metadata": {},
   "outputs": [
    {
     "name": "stdout",
     "output_type": "stream",
     "text": [
      "{'dispositivo': 'dat', 'subclasse': 'epe', 'local': 'cp', 'tab_ou_tech': 'compl', 'identificacao': '00'}\n",
      "exists\n",
      "1\n",
      "{'dispositivo': 'dat', 'subclasse': 'epe', 'local': 'ct', 'tab_ou_tech': 'compl', 'identificacao': '00'}\n",
      "exists\n",
      "2\n",
      "{'dispositivo': 'dat', 'subclasse': 'epe', 'local': 'pb', 'tab_ou_tech': 'compl', 'identificacao': '00'}\n",
      "exists\n",
      "3\n",
      "{'dispositivo': 'dat', 'subclasse': 'epe', 'local': 'pg', 'tab_ou_tech': 'compl', 'identificacao': '00'}\n",
      "exists\n",
      "4\n",
      "{'dispositivo': 'dat', 'subclasse': 'sonda', 'local': 'cm', 'tab_ou_tech': 'compl', 'identificacao': '00'}\n",
      "exists\n",
      "5\n",
      "{'dispositivo': 'dat', 'subclasse': 'sonda', 'local': 'ct', 'tab_ou_tech': 'compl', 'identificacao': '00'}\n",
      "exists\n",
      "6\n",
      "{'dispositivo': 'dat', 'subclasse': 'sonda', 'local': 'md', 'tab_ou_tech': 'compl', 'identificacao': '00'}\n",
      "exists\n",
      "7\n",
      "{'dispositivo': 'dat', 'subclasse': 'epe', 'local': 'cp', 'tab_ou_tech': 'rad01', 'identificacao': '00'}\n",
      "exists\n",
      "8\n",
      "{'dispositivo': 'dat', 'subclasse': 'epe', 'local': 'ct', 'tab_ou_tech': 'rad01', 'identificacao': '00'}\n",
      "exists\n",
      "9\n",
      "{'dispositivo': 'dat', 'subclasse': 'epe', 'local': 'pb', 'tab_ou_tech': 'rad01', 'identificacao': '00'}\n",
      "exists\n",
      "10\n",
      "{'dispositivo': 'dat', 'subclasse': 'epe', 'local': 'pg', 'tab_ou_tech': 'rad01', 'identificacao': '00'}\n",
      "exists\n",
      "11\n",
      "{'dispositivo': 'dat', 'subclasse': 'sonda', 'local': 'cm', 'tab_ou_tech': 'rad01', 'identificacao': '00'}\n",
      "exists\n",
      "12\n",
      "{'dispositivo': 'dat', 'subclasse': 'sonda', 'local': 'ct', 'tab_ou_tech': 'rad01', 'identificacao': '00'}\n",
      "exists\n",
      "13\n",
      "{'dispositivo': 'dat', 'subclasse': 'sonda', 'local': 'md', 'tab_ou_tech': 'rad01', 'identificacao': '00'}\n",
      "exists\n",
      "14\n",
      "{'dispositivo': 'dat', 'subclasse': 'epe', 'local': 'cp', 'tab_ou_tech': 'rad10', 'identificacao': '00'}\n",
      "exists\n",
      "15\n",
      "{'dispositivo': 'dat', 'subclasse': 'epe', 'local': 'ct', 'tab_ou_tech': 'rad10', 'identificacao': '00'}\n",
      "exists\n",
      "16\n",
      "{'dispositivo': 'dat', 'subclasse': 'epe', 'local': 'pb', 'tab_ou_tech': 'rad10', 'identificacao': '00'}\n",
      "exists\n",
      "17\n",
      "{'dispositivo': 'dat', 'subclasse': 'epe', 'local': 'pg', 'tab_ou_tech': 'rad10', 'identificacao': '00'}\n",
      "exists\n",
      "18\n",
      "{'dispositivo': 'dat', 'subclasse': 'sonda', 'local': 'cm', 'tab_ou_tech': 'rad10', 'identificacao': '00'}\n",
      "exists\n",
      "19\n",
      "{'dispositivo': 'dat', 'subclasse': 'sonda', 'local': 'ct', 'tab_ou_tech': 'rad10', 'identificacao': '00'}\n",
      "exists\n",
      "20\n",
      "{'dispositivo': 'dat', 'subclasse': 'sonda', 'local': 'md', 'tab_ou_tech': 'rad10', 'identificacao': '00'}\n",
      "exists\n",
      "21\n",
      "{'dispositivo': 'inv', 'subclasse': '1k5', 'local': 'cm', 'tab_ou_tech': 'cdte', 'identificacao': '00'}\n",
      "exists\n",
      "22\n",
      "{'dispositivo': 'inv', 'subclasse': '1k5', 'local': 'cp', 'tab_ou_tech': 'cdte', 'identificacao': '00'}\n",
      "exists\n",
      "23\n",
      "{'dispositivo': 'inv', 'subclasse': '1k5', 'local': 'ct', 'tab_ou_tech': 'cdte', 'identificacao': '00'}\n",
      "exists\n",
      "24\n",
      "{'dispositivo': 'inv', 'subclasse': '1k5', 'local': 'md', 'tab_ou_tech': 'cdte', 'identificacao': '00'}\n",
      "exists\n",
      "25\n",
      "{'dispositivo': 'inv', 'subclasse': '1k5', 'local': 'pb', 'tab_ou_tech': 'cdte', 'identificacao': '00'}\n",
      "exists\n",
      "26\n",
      "{'dispositivo': 'inv', 'subclasse': '1k5', 'local': 'pg', 'tab_ou_tech': 'cdte', 'identificacao': '00'}\n",
      "exists\n",
      "27\n",
      "{'dispositivo': 'inv', 'subclasse': '1k5', 'local': 'cm', 'tab_ou_tech': 'cigs', 'identificacao': '00'}\n",
      "exists\n",
      "28\n",
      "{'dispositivo': 'inv', 'subclasse': '1k5', 'local': 'cp', 'tab_ou_tech': 'cigs', 'identificacao': '00'}\n",
      "exists\n",
      "29\n",
      "{'dispositivo': 'inv', 'subclasse': '1k5', 'local': 'ct', 'tab_ou_tech': 'cigs', 'identificacao': '00'}\n",
      "exists\n",
      "30\n",
      "{'dispositivo': 'inv', 'subclasse': '1k5', 'local': 'md', 'tab_ou_tech': 'cigs', 'identificacao': '00'}\n",
      "exists\n",
      "31\n",
      "{'dispositivo': 'inv', 'subclasse': '1k5', 'local': 'pb', 'tab_ou_tech': 'cigs', 'identificacao': '00'}\n",
      "exists\n",
      "32\n",
      "{'dispositivo': 'inv', 'subclasse': '1k5', 'local': 'pg', 'tab_ou_tech': 'cigs', 'identificacao': '00'}\n",
      "exists\n",
      "33\n",
      "{'dispositivo': 'inv', 'subclasse': '3k0', 'local': 'cm', 'tab_ou_tech': 'mono', 'identificacao': '00'}\n",
      "exists\n",
      "34\n",
      "{'dispositivo': 'inv', 'subclasse': '3k0', 'local': 'cm', 'tab_ou_tech': 'mono', 'identificacao': '01'}\n",
      "exists\n",
      "35\n",
      "{'dispositivo': 'inv', 'subclasse': '3k0', 'local': 'cp', 'tab_ou_tech': 'mono', 'identificacao': '00'}\n",
      "exists\n",
      "36\n",
      "{'dispositivo': 'inv', 'subclasse': '3k0', 'local': 'cp', 'tab_ou_tech': 'mono', 'identificacao': '01'}\n",
      "exists\n",
      "37\n",
      "{'dispositivo': 'inv', 'subclasse': '3k0', 'local': 'ct', 'tab_ou_tech': 'mono', 'identificacao': '00'}\n",
      "exists\n",
      "38\n",
      "{'dispositivo': 'inv', 'subclasse': '3k0', 'local': 'ct', 'tab_ou_tech': 'mono', 'identificacao': '01'}\n",
      "exists\n",
      "39\n",
      "{'dispositivo': 'inv', 'subclasse': '3k0', 'local': 'md', 'tab_ou_tech': 'mono', 'identificacao': '00'}\n",
      "exists\n",
      "40\n",
      "{'dispositivo': 'inv', 'subclasse': '3k0', 'local': 'md', 'tab_ou_tech': 'mono', 'identificacao': '01'}\n",
      "exists\n",
      "41\n",
      "{'dispositivo': 'inv', 'subclasse': '3k0', 'local': 'pb', 'tab_ou_tech': 'mono', 'identificacao': '00'}\n",
      "exists\n",
      "42\n",
      "{'dispositivo': 'inv', 'subclasse': '3k0', 'local': 'pb', 'tab_ou_tech': 'mono', 'identificacao': '01'}\n",
      "exists\n",
      "43\n",
      "{'dispositivo': 'inv', 'subclasse': '3k0', 'local': 'pg', 'tab_ou_tech': 'mono', 'identificacao': '00'}\n",
      "exists\n",
      "44\n",
      "{'dispositivo': 'inv', 'subclasse': '3k0', 'local': 'pg', 'tab_ou_tech': 'mono', 'identificacao': '01'}\n",
      "exists\n",
      "45\n",
      "{'dispositivo': 'inv', 'subclasse': '3k0', 'local': 'cm', 'tab_ou_tech': 'poli', 'identificacao': '00'}\n",
      "exists\n",
      "46\n",
      "{'dispositivo': 'inv', 'subclasse': '3k0', 'local': 'cm', 'tab_ou_tech': 'poli', 'identificacao': '01'}\n",
      "exists\n",
      "47\n",
      "{'dispositivo': 'inv', 'subclasse': '3k0', 'local': 'cp', 'tab_ou_tech': 'poli', 'identificacao': '00'}\n",
      "exists\n",
      "48\n",
      "{'dispositivo': 'inv', 'subclasse': '3k0', 'local': 'cp', 'tab_ou_tech': 'poli', 'identificacao': '01'}\n",
      "exists\n",
      "49\n",
      "{'dispositivo': 'inv', 'subclasse': '3k0', 'local': 'ct', 'tab_ou_tech': 'poli', 'identificacao': '00'}\n",
      "exists\n",
      "50\n",
      "{'dispositivo': 'inv', 'subclasse': '3k0', 'local': 'ct', 'tab_ou_tech': 'poli', 'identificacao': '01'}\n",
      "exists\n",
      "51\n",
      "{'dispositivo': 'inv', 'subclasse': '3k0', 'local': 'md', 'tab_ou_tech': 'poli', 'identificacao': '00'}\n",
      "exists\n",
      "52\n",
      "{'dispositivo': 'inv', 'subclasse': '3k0', 'local': 'md', 'tab_ou_tech': 'poli', 'identificacao': '01'}\n",
      "exists\n",
      "53\n",
      "{'dispositivo': 'inv', 'subclasse': '3k0', 'local': 'pb', 'tab_ou_tech': 'poli', 'identificacao': '00'}\n",
      "exists\n",
      "54\n",
      "{'dispositivo': 'inv', 'subclasse': '3k0', 'local': 'pb', 'tab_ou_tech': 'poli', 'identificacao': '01'}\n",
      "exists\n",
      "55\n",
      "{'dispositivo': 'inv', 'subclasse': '3k0', 'local': 'pg', 'tab_ou_tech': 'poli', 'identificacao': '00'}\n",
      "exists\n",
      "56\n",
      "{'dispositivo': 'inv', 'subclasse': '3k0', 'local': 'pg', 'tab_ou_tech': 'poli', 'identificacao': '01'}\n",
      "exists\n",
      "57\n"
     ]
    }
   ],
   "source": []
  },
  {
   "cell_type": "code",
   "execution_count": 36,
   "metadata": {},
   "outputs": [],
   "source": [
    "with conn:\n",
    "    database.create_file(conn, tuple(file_info.values()))"
   ]
  },
  {
   "cell_type": "code",
   "execution_count": 15,
   "metadata": {},
   "outputs": [
    {
     "data": {
      "text/plain": [
       "datetime.datetime(2020, 3, 12, 16, 20, 15, 352291)"
      ]
     },
     "execution_count": 15,
     "metadata": {},
     "output_type": "execute_result"
    }
   ],
   "source": [
    "last_mod_file = datetime.datetime.utcfromtimestamp(os.path.getmtime(full_file_path))\n",
    "last_mod_file"
   ]
  },
  {
   "cell_type": "code",
   "execution_count": 106,
   "metadata": {},
   "outputs": [
    {
     "data": {
      "text/plain": [
       "'2020/03/inversores/poli/inv_3k0_cm_poli_00_2020-03-11.csv'"
      ]
     },
     "execution_count": 106,
     "metadata": {},
     "output_type": "execute_result"
    }
   ],
   "source": [
    "full_file_path"
   ]
  },
  {
   "cell_type": "code",
   "execution_count": 107,
   "metadata": {},
   "outputs": [],
   "source": [
    "    with conn:\n",
    "        # create a new project\n",
    "        database.create_file(conn, ('toto','toto','toto','toto','toto'))"
   ]
  },
  {
   "cell_type": "code",
   "execution_count": null,
   "metadata": {},
   "outputs": [],
   "source": []
  },
  {
   "cell_type": "code",
   "execution_count": null,
   "metadata": {},
   "outputs": [],
   "source": []
  },
  {
   "cell_type": "code",
   "execution_count": null,
   "metadata": {},
   "outputs": [],
   "source": [
    "# SELECT id FROM files WHERE dispositivo='dispositivo';"
   ]
  },
  {
   "cell_type": "code",
   "execution_count": 29,
   "metadata": {},
   "outputs": [],
   "source": []
  },
  {
   "cell_type": "code",
   "execution_count": null,
   "metadata": {},
   "outputs": [],
   "source": []
  }
 ],
 "metadata": {
  "kernelspec": {
   "display_name": "Python 3",
   "language": "python",
   "name": "python3"
  },
  "language_info": {
   "codemirror_mode": {
    "name": "ipython",
    "version": 3
   },
   "file_extension": ".py",
   "mimetype": "text/x-python",
   "name": "python",
   "nbconvert_exporter": "python",
   "pygments_lexer": "ipython3",
   "version": "3.7.3"
  }
 },
 "nbformat": 4,
 "nbformat_minor": 4
}
