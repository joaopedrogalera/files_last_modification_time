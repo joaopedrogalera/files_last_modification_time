{
 "cells": [
  {
   "cell_type": "code",
   "execution_count": 112,
   "metadata": {},
   "outputs": [
    {
     "data": {
      "text/plain": [
       "<module 'database' from '/mnt/c/Users/nicol/OneDrive/Estudos/UTFPR/iniciacao/testes/2020-03/regular_ftp_upload_test/database.py'>"
      ]
     },
     "execution_count": 112,
     "metadata": {},
     "output_type": "execute_result"
    }
   ],
   "source": [
    "# gets the date and time in UTC\n",
    "import datetime # .isoformat()\n",
    "import os\n",
    "\n",
    "import last_update \n",
    "import database\n",
    "\n",
    "# only for jupyter lab\n",
    "import importlib\n",
    "importlib.reload(last_update)\n",
    "importlib.reload(database)"
   ]
  },
  {
   "cell_type": "code",
   "execution_count": 114,
   "metadata": {},
   "outputs": [
    {
     "name": "stdout",
     "output_type": "stream",
     "text": [
      "{'dispositivo': 'dat', 'subclasse': 'epe', 'local': 'cp', 'tab_ou_tech': 'compl', 'identificacao': '00'}\n",
      "dont exits\n",
      "1\n",
      "{'dispositivo': 'dat', 'subclasse': 'epe', 'local': 'ct', 'tab_ou_tech': 'compl', 'identificacao': '00'}\n",
      "dont exits\n",
      "2\n",
      "{'dispositivo': 'dat', 'subclasse': 'epe', 'local': 'pb', 'tab_ou_tech': 'compl', 'identificacao': '00'}\n",
      "dont exits\n",
      "3\n",
      "{'dispositivo': 'dat', 'subclasse': 'epe', 'local': 'pg', 'tab_ou_tech': 'compl', 'identificacao': '00'}\n",
      "dont exits\n",
      "4\n",
      "{'dispositivo': 'dat', 'subclasse': 'sonda', 'local': 'cm', 'tab_ou_tech': 'compl', 'identificacao': '00'}\n",
      "dont exits\n",
      "5\n",
      "{'dispositivo': 'dat', 'subclasse': 'sonda', 'local': 'ct', 'tab_ou_tech': 'compl', 'identificacao': '00'}\n",
      "dont exits\n",
      "6\n",
      "{'dispositivo': 'dat', 'subclasse': 'sonda', 'local': 'md', 'tab_ou_tech': 'compl', 'identificacao': '00'}\n",
      "dont exits\n",
      "7\n",
      "{'dispositivo': 'dat', 'subclasse': 'epe', 'local': 'cp', 'tab_ou_tech': 'rad01', 'identificacao': '00'}\n",
      "dont exits\n",
      "8\n",
      "{'dispositivo': 'dat', 'subclasse': 'epe', 'local': 'ct', 'tab_ou_tech': 'rad01', 'identificacao': '00'}\n",
      "dont exits\n",
      "9\n",
      "{'dispositivo': 'dat', 'subclasse': 'epe', 'local': 'pb', 'tab_ou_tech': 'rad01', 'identificacao': '00'}\n",
      "dont exits\n",
      "10\n",
      "{'dispositivo': 'dat', 'subclasse': 'epe', 'local': 'pg', 'tab_ou_tech': 'rad01', 'identificacao': '00'}\n",
      "dont exits\n",
      "11\n",
      "{'dispositivo': 'dat', 'subclasse': 'sonda', 'local': 'cm', 'tab_ou_tech': 'rad01', 'identificacao': '00'}\n",
      "dont exits\n",
      "12\n",
      "{'dispositivo': 'dat', 'subclasse': 'sonda', 'local': 'ct', 'tab_ou_tech': 'rad01', 'identificacao': '00'}\n",
      "dont exits\n",
      "13\n",
      "{'dispositivo': 'dat', 'subclasse': 'sonda', 'local': 'md', 'tab_ou_tech': 'rad01', 'identificacao': '00'}\n",
      "dont exits\n",
      "14\n",
      "{'dispositivo': 'dat', 'subclasse': 'epe', 'local': 'cp', 'tab_ou_tech': 'rad10', 'identificacao': '00'}\n",
      "dont exits\n",
      "15\n",
      "{'dispositivo': 'dat', 'subclasse': 'epe', 'local': 'ct', 'tab_ou_tech': 'rad10', 'identificacao': '00'}\n",
      "dont exits\n",
      "16\n",
      "{'dispositivo': 'dat', 'subclasse': 'epe', 'local': 'pb', 'tab_ou_tech': 'rad10', 'identificacao': '00'}\n",
      "dont exits\n",
      "17\n",
      "{'dispositivo': 'dat', 'subclasse': 'epe', 'local': 'pg', 'tab_ou_tech': 'rad10', 'identificacao': '00'}\n",
      "dont exits\n",
      "18\n",
      "{'dispositivo': 'dat', 'subclasse': 'sonda', 'local': 'cm', 'tab_ou_tech': 'rad10', 'identificacao': '00'}\n",
      "dont exits\n",
      "19\n",
      "{'dispositivo': 'dat', 'subclasse': 'sonda', 'local': 'ct', 'tab_ou_tech': 'rad10', 'identificacao': '00'}\n",
      "dont exits\n",
      "20\n",
      "{'dispositivo': 'dat', 'subclasse': 'sonda', 'local': 'md', 'tab_ou_tech': 'rad10', 'identificacao': '00'}\n",
      "dont exits\n",
      "21\n",
      "{'dispositivo': 'inversor', 'subclasse': '5k0bi', 'local': 'ct', 'tab_ou_tech': 'bidir', 'identificacao': '00'}\n",
      "dont exits\n",
      "22\n",
      "{'dispositivo': 'inversor', 'subclasse': '5k0bi', 'local': 'ct', 'tab_ou_tech': 'bidir', 'identificacao': '01'}\n",
      "dont exits\n",
      "23\n",
      "{'dispositivo': 'inv', 'subclasse': '1k5', 'local': 'cm', 'tab_ou_tech': 'cdte', 'identificacao': '00'}\n",
      "dont exits\n",
      "24\n",
      "{'dispositivo': 'inv', 'subclasse': '1k5', 'local': 'cp', 'tab_ou_tech': 'cdte', 'identificacao': '00'}\n",
      "dont exits\n",
      "25\n",
      "{'dispositivo': 'inv', 'subclasse': '1k5', 'local': 'ct', 'tab_ou_tech': 'cdte', 'identificacao': '00'}\n",
      "dont exits\n",
      "26\n",
      "{'dispositivo': 'inv', 'subclasse': '1k5', 'local': 'md', 'tab_ou_tech': 'cdte', 'identificacao': '00'}\n",
      "dont exits\n",
      "27\n",
      "{'dispositivo': 'inv', 'subclasse': '1k5', 'local': 'pb', 'tab_ou_tech': 'cdte', 'identificacao': '00'}\n",
      "dont exits\n",
      "28\n",
      "{'dispositivo': 'inv', 'subclasse': '1k5', 'local': 'pg', 'tab_ou_tech': 'cdte', 'identificacao': '00'}\n",
      "dont exits\n",
      "29\n",
      "{'dispositivo': 'inv', 'subclasse': '1k5', 'local': 'cm', 'tab_ou_tech': 'cigs', 'identificacao': '00'}\n",
      "dont exits\n",
      "30\n",
      "{'dispositivo': 'inv', 'subclasse': '1k5', 'local': 'cp', 'tab_ou_tech': 'cigs', 'identificacao': '00'}\n",
      "dont exits\n",
      "31\n",
      "{'dispositivo': 'inv', 'subclasse': '1k5', 'local': 'ct', 'tab_ou_tech': 'cigs', 'identificacao': '00'}\n",
      "dont exits\n",
      "32\n",
      "{'dispositivo': 'inv', 'subclasse': '1k5', 'local': 'md', 'tab_ou_tech': 'cigs', 'identificacao': '00'}\n",
      "dont exits\n",
      "33\n",
      "{'dispositivo': 'inv', 'subclasse': '1k5', 'local': 'pb', 'tab_ou_tech': 'cigs', 'identificacao': '00'}\n",
      "dont exits\n",
      "34\n",
      "{'dispositivo': 'inv', 'subclasse': '1k5', 'local': 'pg', 'tab_ou_tech': 'cigs', 'identificacao': '00'}\n",
      "dont exits\n",
      "35\n",
      "{'dispositivo': 'inv', 'subclasse': '1k5', 'local': 'labens', 'tab_ou_tech': 'teste', 'identificacao': '00'}\n",
      "dont exits\n",
      "36\n",
      "{'dispositivo': 'inv', 'subclasse': '3k0', 'local': 'cm', 'tab_ou_tech': 'mono', 'identificacao': '00'}\n",
      "dont exits\n",
      "37\n",
      "{'dispositivo': 'inv', 'subclasse': '3k0', 'local': 'cm', 'tab_ou_tech': 'mono', 'identificacao': '01'}\n",
      "dont exits\n",
      "38\n",
      "{'dispositivo': 'inv', 'subclasse': '3k0', 'local': 'cp', 'tab_ou_tech': 'mono', 'identificacao': '00'}\n",
      "dont exits\n",
      "39\n",
      "{'dispositivo': 'inv', 'subclasse': '3k0', 'local': 'cp', 'tab_ou_tech': 'mono', 'identificacao': '01'}\n",
      "dont exits\n",
      "40\n",
      "{'dispositivo': 'inv', 'subclasse': '3k0', 'local': 'ct', 'tab_ou_tech': 'mono', 'identificacao': '00'}\n",
      "dont exits\n",
      "41\n",
      "{'dispositivo': 'inv', 'subclasse': '3k0', 'local': 'ct', 'tab_ou_tech': 'mono', 'identificacao': '01'}\n",
      "dont exits\n",
      "42\n",
      "{'dispositivo': 'inv', 'subclasse': '3k0', 'local': 'md', 'tab_ou_tech': 'mono', 'identificacao': '00'}\n",
      "dont exits\n",
      "43\n",
      "{'dispositivo': 'inv', 'subclasse': '3k0', 'local': 'md', 'tab_ou_tech': 'mono', 'identificacao': '01'}\n",
      "dont exits\n",
      "44\n",
      "{'dispositivo': 'inv', 'subclasse': '3k0', 'local': 'pb', 'tab_ou_tech': 'mono', 'identificacao': '00'}\n",
      "dont exits\n",
      "45\n",
      "{'dispositivo': 'inv', 'subclasse': '3k0', 'local': 'pb', 'tab_ou_tech': 'mono', 'identificacao': '01'}\n",
      "dont exits\n",
      "46\n",
      "{'dispositivo': 'inv', 'subclasse': '3k0', 'local': 'pg', 'tab_ou_tech': 'mono', 'identificacao': '00'}\n",
      "dont exits\n",
      "47\n",
      "{'dispositivo': 'inv', 'subclasse': '3k0', 'local': 'pg', 'tab_ou_tech': 'mono', 'identificacao': '01'}\n",
      "dont exits\n",
      "48\n",
      "{'dispositivo': 'inv', 'subclasse': '3k0', 'local': 'cm', 'tab_ou_tech': 'poli', 'identificacao': '00'}\n",
      "dont exits\n",
      "49\n",
      "{'dispositivo': 'inv', 'subclasse': '3k0', 'local': 'cm', 'tab_ou_tech': 'poli', 'identificacao': '01'}\n",
      "dont exits\n",
      "50\n",
      "{'dispositivo': 'inv', 'subclasse': '3k0', 'local': 'cp', 'tab_ou_tech': 'poli', 'identificacao': '00'}\n",
      "dont exits\n",
      "51\n",
      "{'dispositivo': 'inv', 'subclasse': '3k0', 'local': 'cp', 'tab_ou_tech': 'poli', 'identificacao': '01'}\n",
      "dont exits\n",
      "52\n",
      "{'dispositivo': 'inv', 'subclasse': '3k0', 'local': 'ct', 'tab_ou_tech': 'poli', 'identificacao': '00'}\n",
      "dont exits\n",
      "53\n",
      "{'dispositivo': 'inv', 'subclasse': '3k0', 'local': 'ct', 'tab_ou_tech': 'poli', 'identificacao': '01'}\n",
      "dont exits\n",
      "54\n",
      "{'dispositivo': 'inv', 'subclasse': '3k0', 'local': 'md', 'tab_ou_tech': 'poli', 'identificacao': '00'}\n",
      "dont exits\n",
      "55\n",
      "{'dispositivo': 'inv', 'subclasse': '3k0', 'local': 'md', 'tab_ou_tech': 'poli', 'identificacao': '01'}\n",
      "dont exits\n",
      "56\n",
      "{'dispositivo': 'inv', 'subclasse': '3k0', 'local': 'pb', 'tab_ou_tech': 'poli', 'identificacao': '00'}\n",
      "dont exits\n",
      "57\n",
      "{'dispositivo': 'inv', 'subclasse': '3k0', 'local': 'pb', 'tab_ou_tech': 'poli', 'identificacao': '01'}\n",
      "dont exits\n",
      "58\n",
      "{'dispositivo': 'inv', 'subclasse': '3k0', 'local': 'pg', 'tab_ou_tech': 'poli', 'identificacao': '00'}\n",
      "dont exits\n",
      "59\n",
      "{'dispositivo': 'inv', 'subclasse': '3k0', 'local': 'pg', 'tab_ou_tech': 'poli', 'identificacao': '01'}\n",
      "dont exits\n",
      "60\n"
     ]
    }
   ],
   "source": [
    "# connects to the SQlite DB\n",
    "DB_name = r\"database.db\"\n",
    "conn = database.create_connection(DB_name)\n",
    "\n",
    "# creates tables\n",
    "database.create_tables(conn, DB_name)\n",
    "\n",
    "# get current time\n",
    "current_time = datetime.datetime.utcnow().replace(microsecond=0)\n",
    "\n",
    "# generates the path for the current month - 2020/03\n",
    "month_folder = \"{:04}/{:02}\".format(current_time.year, current_time.month)\n",
    "# generates the current day string - 2020-03-15\n",
    "current_date_str = \"{:04}-{:02}-{:02}\".format(current_time.year, current_time.month, current_time.day)\n",
    "\n",
    "# walks thought the current month files\n",
    "for dirname, dirnames, filenames in os.walk(month_folder):\n",
    "    for filename in filenames:\n",
    "        # selects only files from the current day\n",
    "        if current_date_str in filename:\n",
    "            # get file info\n",
    "            full_file_path = os.path.join(dirname, filename)\n",
    "            file_info = last_update.get_file_info(full_file_path)\n",
    "            #file_info = \n",
    "\n",
    "            # checks if the filename and folder are consistent\n",
    "                # adds log if not\n",
    "                \n",
    "                \n",
    "            # remove unused fields\n",
    "            del file_info['ano']\n",
    "            del file_info['mes']\n",
    "            del file_info['dia']\n",
    "            print(file_info)\n",
    "\n",
    "            # checks if more than one file exists for this configuration\n",
    "            try:\n",
    "                file_exists = database.specific_file_exists(conn, **file_info)\n",
    "            except NameError:\n",
    "                print('Multiple files on th DB:')\n",
    "                print(file_info)\n",
    "                continue\n",
    "\n",
    "            # gets the file_id by creating the file or selecting it\n",
    "            if file_exists:\n",
    "                print('exists')\n",
    "                file = database.select_specific_file(conn, **file_info)\n",
    "                file_id = file[0][0] # select the id                      \n",
    "            else:\n",
    "                print('dont exits')\n",
    "                file_id = database.create_file(conn, tuple(file_info.values()))\n",
    "\n",
    "\n",
    "            print(file_id)\n",
    "\n",
    "\n",
    "            # create update and store data\n",
    "            last_update_in_s = (current_time - last_mod_file).seconds\n",
    "            database.create_update(conn, (file_id, current_time.isoformat(), last_update_in_s))\n",
    "\n",
    "            #pass\n",
    "            #print()"
   ]
  },
  {
   "cell_type": "code",
   "execution_count": 110,
   "metadata": {},
   "outputs": [
    {
     "data": {
      "text/plain": [
       "10"
      ]
     },
     "execution_count": 110,
     "metadata": {},
     "output_type": "execute_result"
    }
   ],
   "source": [
    "database.create_file(conn, tuple(file_info.values()))"
   ]
  },
  {
   "cell_type": "code",
   "execution_count": 105,
   "metadata": {},
   "outputs": [
    {
     "data": {
      "text/plain": [
       "8"
      ]
     },
     "execution_count": 105,
     "metadata": {},
     "output_type": "execute_result"
    }
   ],
   "source": [
    "database.create_update(conn, (file_id, current_time.isoformat(), last_update_in_s))"
   ]
  },
  {
   "cell_type": "code",
   "execution_count": 106,
   "metadata": {},
   "outputs": [
    {
     "data": {
      "text/plain": [
       "'2020/03/inversores/poli/inv_3k0_cm_poli_00_2020-03-11.csv'"
      ]
     },
     "execution_count": 106,
     "metadata": {},
     "output_type": "execute_result"
    }
   ],
   "source": [
    "full_file_path"
   ]
  },
  {
   "cell_type": "code",
   "execution_count": 107,
   "metadata": {},
   "outputs": [],
   "source": [
    "    with conn:\n",
    "        # create a new project\n",
    "        database.create_file(conn, ('toto','toto','toto','toto','toto'))"
   ]
  },
  {
   "cell_type": "code",
   "execution_count": null,
   "metadata": {},
   "outputs": [],
   "source": []
  },
  {
   "cell_type": "code",
   "execution_count": null,
   "metadata": {},
   "outputs": [],
   "source": []
  },
  {
   "cell_type": "code",
   "execution_count": null,
   "metadata": {},
   "outputs": [],
   "source": [
    "# SELECT id FROM files WHERE dispositivo='dispositivo';"
   ]
  },
  {
   "cell_type": "code",
   "execution_count": 29,
   "metadata": {},
   "outputs": [],
   "source": []
  },
  {
   "cell_type": "code",
   "execution_count": null,
   "metadata": {},
   "outputs": [],
   "source": []
  }
 ],
 "metadata": {
  "kernelspec": {
   "display_name": "Python 3",
   "language": "python",
   "name": "python3"
  },
  "language_info": {
   "codemirror_mode": {
    "name": "ipython",
    "version": 3
   },
   "file_extension": ".py",
   "mimetype": "text/x-python",
   "name": "python",
   "nbconvert_exporter": "python",
   "pygments_lexer": "ipython3",
   "version": "3.7.3"
  }
 },
 "nbformat": 4,
 "nbformat_minor": 4
}
